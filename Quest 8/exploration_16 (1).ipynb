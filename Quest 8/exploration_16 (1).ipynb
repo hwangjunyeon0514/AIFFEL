{
 "cells": [
  {
   "cell_type": "markdown",
   "id": "f28d5553",
   "metadata": {},
   "source": [
    "# 프로젝트: 한국어 데이터로 챗봇 만들기\n",
    "⭐️ 한국어 전처리를 통해 학습 데이터셋을 구축하였다. 공백과 특수문자 처리, 토크나이징, 병렬데이터 구축의 과정이 적절히 진행되었다.  \n",
    "⭐️ 트랜스포머 모델을 구현하여 한국어 챗봇 모델 학습을 정상적으로 진행하였다. 구현한 트랜스포머 모델이 한국어 병렬 데이터 학습 시 안정적으로 수렴하였다.  \n",
    "⭐️ 한국어 입력문장에 대해 한국어로 답변하는 함수를 구현하였다. 한국어 입력문장에 맥락에 맞는 한국어로 답변을 리턴하였다."
   ]
  },
  {
   "cell_type": "markdown",
   "id": "4067ef5e",
   "metadata": {},
   "source": [
    "---\n",
    "## 🤖 Import libraries & packages"
   ]
  },
  {
   "cell_type": "code",
   "execution_count": 1,
   "id": "b7bf805d",
   "metadata": {},
   "outputs": [],
   "source": [
    "# import useful tools\n",
    "import os\n",
    "import re\n",
    "from random import randint\n",
    "\n",
    "\n",
    "# import data tools\n",
    "import numpy as np\n",
    "\n",
    "\n",
    "# import visualization tool\n",
    "import matplotlib.pyplot as plt\n",
    "\n",
    "\n",
    "# import DL tools\n",
    "import tensorflow as tf\n",
    "import tensorflow_datasets as tfds"
   ]
  },
  {
   "cell_type": "markdown",
   "id": "7e153752",
   "metadata": {},
   "source": [
    "---\n",
    "## 🤖 Define constants, frequently used variables and methods"
   ]
  },
  {
   "cell_type": "code",
   "execution_count": 2,
   "id": "e7449d6d",
   "metadata": {},
   "outputs": [],
   "source": [
    "# column index number of datasets\n",
    "QUESTIONS = 0\n",
    "ANSWERS = 1\n",
    "LABELS = 2\n",
    "\n",
    "\n",
    "# total samples to load from data source\n",
    "TOTAL_SAMPLES_CNT = -1    # -1 : as much as possible\n",
    "\n",
    "# maximum length of sentences in training data\n",
    "MAX_SENTENCE_LEN = 40\n",
    "\n",
    "# maximum size of vocabulary set\n",
    "VOCAB_SIZE = 2**13 + 2    # +2 for start token, end token\n",
    "\n",
    "\n",
    "\n",
    "# ML hyper parameters\n",
    "BATCH_SIZE = 64\n",
    "BUFFER_SIZE = 20000\n",
    "\n",
    "NUM_LAYERS = 2    # the number of layers in encoder&decoder\n",
    "D_MODEL = 256     # fixed dimension of input/output of inner encoder/decoder\n",
    "NUM_HEADS = 8     # the number of heads for multihead attention \n",
    "UNITS = 512       # 피드 포워드 신경망의 은닉층의 크기\n",
    "DROPOUT = 0.1     # ratio of dropout\n",
    "\n",
    "EPOCHS = 200\n",
    "\n",
    "\n",
    "\n",
    "# path of data source file\n",
    "data_filename = os.getenv(\"HOME\") + \"/aiffel/transformer_chatbot/data/ChatbotData.csv\"\n",
    "\n",
    "\n",
    "\n",
    "# frequently used methods\n",
    "DIVIDER_LENGTH = 80\n",
    "def print_single_divider():\n",
    "    print(\"-\" * DIVIDER_LENGTH)\n",
    "    \n",
    "def print_double_divider():\n",
    "    print(\"=\" * DIVIDER_LENGTH)"
   ]
  },
  {
   "cell_type": "markdown",
   "id": "1b57dbe8",
   "metadata": {},
   "source": [
    "---\n",
    "## 🤖 Prepare dataset"
   ]
  },
  {
   "cell_type": "markdown",
   "id": "1ae1c704",
   "metadata": {},
   "source": [
    "### 1. Define dataset loading & pre-processing methods"
   ]
  },
  {
   "cell_type": "markdown",
   "id": "d0cab05b",
   "metadata": {},
   "source": [
    "1-1. Define dataset loading method"
   ]
  },
  {
   "cell_type": "code",
   "execution_count": 3,
   "id": "99ec910b",
   "metadata": {},
   "outputs": [],
   "source": [
    "def load_chat_dataset(data_filename = data_filename, limit = TOTAL_SAMPLES_CNT): \n",
    "    # read data from ChatbotData.csv file\n",
    "    with open(data_filename, \"r\") as file:\n",
    "        data_source = file.readlines()\n",
    "    \n",
    "    # set maximum number of sample data\n",
    "    if limit == -1:\n",
    "        limit = len(data_source) - 1\n",
    "\n",
    "        \n",
    "    # split one sample data into Q, A, label part\n",
    "    data = {\"Q\": [], \"A\": [], \"label\": []}\n",
    "    for idx, sample in enumerate(data_source[1:limit + 1]):    # exclude column line\n",
    "        sample_split = sample.replace(\"\\n\", \"\").split(\",\")\n",
    "        \n",
    "        data[\"Q\"].append(sample_split[QUESTIONS])\n",
    "        data[\"A\"].append(sample_split[ANSWERS])\n",
    "        data[\"label\"].append(sample_split[LABELS])\n",
    "\n",
    "\n",
    "    # display result\n",
    "    if len(data[\"Q\"]) == len(data[\"A\"]) and len(data[\"Q\"]) == len(data[\"label\"]):\n",
    "        print(\"Total\", len(data[\"Q\"]), \"data samples are successfully loaded.\")\n",
    "    else:\n",
    "        print(\"Warning! The input and target data samples are not paired successfully.\")\n",
    "        \n",
    "    return data"
   ]
  },
  {
   "cell_type": "markdown",
   "id": "81379ddd",
   "metadata": {},
   "source": [
    "1-2. Define pre-processing method (removing unnecessary characters method )"
   ]
  },
  {
   "cell_type": "code",
   "execution_count": 4,
   "id": "39d01b66",
   "metadata": {},
   "outputs": [],
   "source": [
    "def divide_punctuations(sentence):\n",
    "    # remove space characters in bothside\n",
    "    sentence = sentence.strip()\n",
    "\n",
    "    # insert space(\" \") between words and punctuations\n",
    "    #     ex. \"나는 학생이다.\" => \"나는 학생이다 .\"\n",
    "    sentence = re.sub(r\"([?.!,])\", r\" \\1 \", sentence)\n",
    "    sentence = re.sub(r'[\" \"]+', \" \", sentence)\n",
    "\n",
    "    # substitute all characters except (한글, \".\", \"?\", \"!\", \",\") with space(\" \")\n",
    "    sentence = re.sub(r\"[^ㄱ-ㅎㅏ-ㅣ가-힣.?!,]+\", \" \", sentence)\n",
    "\n",
    "    # remove space characters that caused by substitution by regular expressions\n",
    "    sentence = sentence.strip()\n",
    "    \n",
    "    return sentence"
   ]
  },
  {
   "cell_type": "markdown",
   "id": "31e02e81",
   "metadata": {},
   "source": [
    "1-3. Define pipeline method to load and pre-process data"
   ]
  },
  {
   "cell_type": "code",
   "execution_count": 5,
   "id": "879e28b4",
   "metadata": {},
   "outputs": [],
   "source": [
    "def load_preprocess_data(data_filename = data_filename, limit = TOTAL_SAMPLES_CNT):\n",
    "    # load data\n",
    "    data = load_chat_dataset(data_filename, limit)\n",
    "    questions = data[\"Q\"]\n",
    "    answers = data[\"A\"]\n",
    "\n",
    "    # pre-process data\n",
    "    questions = [divide_punctuations(q) for q in questions]\n",
    "    print_double_divider()\n",
    "    print(\"Pre-processing on\", len(questions), \"sentences in QUESTIONS data are succesfully finished!\")\n",
    "    answers = [divide_punctuations(a) for a in answers]\n",
    "    print(\"Pre-processing on\", len(answers), \"sentences in ANSWERS data are succesfully finished!\")\n",
    "    \n",
    "    return questions, answers"
   ]
  },
  {
   "cell_type": "markdown",
   "id": "ef0a0c1e",
   "metadata": {},
   "source": [
    "### 2. Load and pre-process data"
   ]
  },
  {
   "cell_type": "code",
   "execution_count": 6,
   "id": "9630ad14",
   "metadata": {},
   "outputs": [
    {
     "name": "stdout",
     "output_type": "stream",
     "text": [
      "Total 11823 data samples are successfully loaded.\n",
      "================================================================================\n",
      "Pre-processing on 11823 sentences in QUESTIONS data are succesfully finished!\n",
      "Pre-processing on 11823 sentences in ANSWERS data are succesfully finished!\n",
      "================================================================================\n",
      "< Preview of sample data >\n",
      "--------------------------------------------------------------------------------\n",
      "Q 7276 : 용서의 의미\n",
      "A 7276 : 단지 받아들였을 뿐이에요 .\n",
      "--------------------------------------------------------------------------------\n",
      "Q 3480 : 요즘 웃을 일이 없네\n",
      "A 3480 : 억지로라도 웃어보세요 !\n",
      "--------------------------------------------------------------------------------\n",
      "Q 10133 : 싸우다보니까 사랑했던걸 까먹어\n",
      "A 10133 : 사랑하게 된 이유를 써놓고 사랑이 힘겨울때 꺼내 읽어보세요 .\n"
     ]
    }
   ],
   "source": [
    "# load & pre-process data\n",
    "questions, answers = load_preprocess_data()\n",
    "\n",
    "\n",
    "\n",
    "# preview of sample data\n",
    "print_double_divider()\n",
    "print(\"< Preview of sample data >\")\n",
    "\n",
    "random_idx = randint(1, len(questions))\n",
    "print_single_divider()\n",
    "print(\"Q\", random_idx, \":\", questions[random_idx - 1])\n",
    "print(\"A\", random_idx, \":\", answers[random_idx - 1])\n",
    "\n",
    "random_idx = randint(1, len(questions))\n",
    "print_single_divider()\n",
    "print(\"Q\", random_idx, \":\", questions[random_idx - 1])\n",
    "print(\"A\", random_idx, \":\", answers[random_idx - 1])\n",
    "\n",
    "random_idx = randint(1, len(questions))\n",
    "print_single_divider()\n",
    "print(\"Q\", random_idx, \":\", questions[random_idx - 1])\n",
    "print(\"A\", random_idx, \":\", answers[random_idx - 1])"
   ]
  },
  {
   "cell_type": "markdown",
   "id": "4c133b1e",
   "metadata": {},
   "source": [
    "### 3. Define integer encoding & padding methods"
   ]
  },
  {
   "cell_type": "markdown",
   "id": "293f9985",
   "metadata": {},
   "source": [
    "3-1. Generate vocabulary set from data"
   ]
  },
  {
   "cell_type": "code",
   "execution_count": 7,
   "id": "f32567fc",
   "metadata": {},
   "outputs": [
    {
     "name": "stdout",
     "output_type": "stream",
     "text": [
      "Vocabulary encoder with total 8112 words is suceesfully generated!\n"
     ]
    }
   ],
   "source": [
    "# generate vocabulary set from QUESTIONS & ANSWERS data\n",
    "vocab_encoder = tfds.deprecated.text.SubwordTextEncoder.build_from_corpus(questions + answers, target_vocab_size = VOCAB_SIZE - 2)\n",
    "    # target_vocab_size = VOCAB_SIZE - 2 (-2 for start token, end token)\n",
    "\n",
    "print(\"Vocabulary encoder with total\", vocab_encoder.vocab_size, \"words is suceesfully generated!\")"
   ]
  },
  {
   "cell_type": "markdown",
   "id": "72cf27b4",
   "metadata": {},
   "source": [
    "3-2. Assign integer value for START token and END token"
   ]
  },
  {
   "cell_type": "code",
   "execution_count": 8,
   "id": "f36a3fbd",
   "metadata": {},
   "outputs": [
    {
     "name": "stdout",
     "output_type": "stream",
     "text": [
      "Additional integer idx for START and END tokens are successfully assigned!\n",
      ">>> integer index of START token : 8112\n",
      ">>> integer index of END token   : 8113\n"
     ]
    }
   ],
   "source": [
    "START_TOKEN = vocab_encoder.vocab_size\n",
    "END_TOKEN = vocab_encoder.vocab_size + 1\n",
    "\n",
    "# adjust the constant value of total vocabulary size\n",
    "VOCAB_SIZE = vocab_encoder.vocab_size + 2\n",
    "\n",
    "print(\"Additional integer idx for START and END tokens are successfully assigned!\")\n",
    "print(\">>> integer index of START token :\", START_TOKEN)\n",
    "print(\">>> integer index of END token   :\", END_TOKEN)"
   ]
  },
  {
   "cell_type": "markdown",
   "id": "92b8f0f8",
   "metadata": {},
   "source": [
    "3-3. Define interger encoding & padding methods\n",
    "   - 해당 프로젝트에서는 모듈화를 위해 integer encoding과 padding 기능을 분리하여 각각의 method로 정의\n",
    "   - 그러나 두 기능 모두 MAX_SENTENCES_LEN과 밀접한 연관이 있어 동일한 연산을 중복 수행하게 되는 trade-off 발생\n",
    "   - 연산 속도가 중요한 경우에는 encoding & padding 기능을 동시에 수행함으로써 중복 연산을 최소화할 것을 제안"
   ]
  },
  {
   "cell_type": "code",
   "execution_count": 9,
   "id": "00021a23",
   "metadata": {},
   "outputs": [],
   "source": [
    "def integer_encode_strings(sentences):\n",
    "    encoded_sentences = []\n",
    "    \n",
    "    for s in sentences:\n",
    "        encoded_sentences.append([START_TOKEN] + vocab_encoder.encode(s) + [END_TOKEN])\n",
    "        \n",
    "    return encoded_sentences"
   ]
  },
  {
   "cell_type": "code",
   "execution_count": 10,
   "id": "cb20bbdf",
   "metadata": {},
   "outputs": [],
   "source": [
    "def filter_pad_data_pair(encoded_source_sentences, encoded_target_sentences, limit = MAX_SENTENCE_LEN):\n",
    "    \n",
    "    # filter over-length data\n",
    "    filtered_source_sentences = []\n",
    "    filtered_target_sentences = []\n",
    "    for source_s, target_s in zip(encoded_source_sentences, encoded_target_sentences):\n",
    "        if len(source_s) <= limit and len(target_s) <= limit:\n",
    "            filtered_source_sentences.append(source_s)\n",
    "            filtered_target_sentences.append(target_s)\n",
    "    \n",
    "    # padding length-filtered data\n",
    "    padded_source_sentences = tf.keras.preprocessing.sequence.pad_sequences(\n",
    "                                filtered_source_sentences,\n",
    "                                maxlen = limit,\n",
    "                                padding = \"post\")\n",
    "    padded_target_sentences = tf.keras.preprocessing.sequence.pad_sequences(\n",
    "                                filtered_target_sentences,\n",
    "                                maxlen = limit,\n",
    "                                padding = \"post\")\n",
    "    \n",
    "    return padded_source_sentences, padded_target_sentences"
   ]
  },
  {
   "cell_type": "markdown",
   "id": "4dd8f746",
   "metadata": {},
   "source": [
    "3-4. Define pipeline method to integer-encode and pad data"
   ]
  },
  {
   "cell_type": "code",
   "execution_count": 11,
   "id": "65a82fca",
   "metadata": {},
   "outputs": [],
   "source": [
    "def encode_pad_data(source_sentences, target_sentences, limit = MAX_SENTENCE_LEN):\n",
    "    # integer encoding\n",
    "    encoded_source_sentences = integer_encode_strings(source_sentences)\n",
    "    encoded_target_sentences = integer_encode_strings(target_sentences)\n",
    "    print(\"Total\", len(encoded_source_sentences), \"samples are successfully encoded as vocabulary indices.\")\n",
    "    \n",
    "    # filter over-length data & padding\n",
    "    padded_source_sentences, encoded_target_sentences = filter_pad_data_pair(encoded_source_sentences, encoded_target_sentences, limit)\n",
    "    print(\"Total\", len(padded_source_sentences), \"samples are successfully padded as\", limit, \"length.\")\n",
    "    \n",
    "    return padded_source_sentences, encoded_target_sentences"
   ]
  },
  {
   "cell_type": "markdown",
   "id": "298a7792",
   "metadata": {},
   "source": [
    "### 4. Integer-encode and pad data "
   ]
  },
  {
   "cell_type": "code",
   "execution_count": 12,
   "id": "8b9d80ad",
   "metadata": {},
   "outputs": [
    {
     "name": "stdout",
     "output_type": "stream",
     "text": [
      "Total 11823 samples are successfully encoded as vocabulary indices.\n",
      "Total 11823 samples are successfully padded as 40 length.\n",
      "================================================================================\n",
      "< Preview of sample data >\n",
      "--------------------------------------------------------------------------------\n",
      "Q 10198 : [8112   61  196   42 5579 7888  114   23 1180 1572    1 8113    0    0\n",
      "    0    0    0    0    0    0    0    0    0    0    0    0    0    0\n",
      "    0    0    0    0    0    0    0    0    0    0    0    0]\n",
      "A 10198 : [8112 5055 7888  514  108  238 5875    1 8113    0    0    0    0    0\n",
      "    0    0    0    0    0    0    0    0    0    0    0    0    0    0\n",
      "    0    0    0    0    0    0    0    0    0    0    0    0]\n",
      "--------------------------------------------------------------------------------\n",
      "Q 7052 : [8112 2244  967  552   16 4640    2 8113    0    0    0    0    0    0\n",
      "    0    0    0    0    0    0    0    0    0    0    0    0    0    0\n",
      "    0    0    0    0    0    0    0    0    0    0    0    0]\n",
      "A 7052 : [8112 3076  964  291 3063    1 8113    0    0    0    0    0    0    0\n",
      "    0    0    0    0    0    0    0    0    0    0    0    0    0    0\n",
      "    0    0    0    0    0    0    0    0    0    0    0    0]\n",
      "--------------------------------------------------------------------------------\n",
      "Q 4971 : [8112 5873 7888 4706   55 8113    0    0    0    0    0    0    0    0\n",
      "    0    0    0    0    0    0    0    0    0    0    0    0    0    0\n",
      "    0    0    0    0    0    0    0    0    0    0    0    0]\n",
      "A 4971 : [8112  373 5873   12  891  399 3052   17    1 8113    0    0    0    0\n",
      "    0    0    0    0    0    0    0    0    0    0    0    0    0    0\n",
      "    0    0    0    0    0    0    0    0    0    0    0    0]\n"
     ]
    }
   ],
   "source": [
    "source_data, target_data = encode_pad_data(questions, answers)\n",
    "\n",
    "# preview of encoded sample data\n",
    "print_double_divider()\n",
    "print(\"< Preview of sample data >\")\n",
    "\n",
    "random_idx = randint(1, len(source_data))\n",
    "print_single_divider()\n",
    "print(\"Q\", random_idx, \":\", source_data[random_idx - 1])\n",
    "print(\"A\", random_idx, \":\", target_data[random_idx - 1])\n",
    "\n",
    "random_idx = randint(1, len(questions))\n",
    "print_single_divider()\n",
    "print(\"Q\", random_idx, \":\", source_data[random_idx - 1])\n",
    "print(\"A\", random_idx, \":\", target_data[random_idx - 1])\n",
    "\n",
    "random_idx = randint(1, len(questions))\n",
    "print_single_divider()\n",
    "print(\"Q\", random_idx, \":\", source_data[random_idx - 1])\n",
    "print(\"A\", random_idx, \":\", target_data[random_idx - 1])"
   ]
  },
  {
   "cell_type": "markdown",
   "id": "d1434dde",
   "metadata": {},
   "source": [
    "### 5. Prepare final DataFrame to adopt teacher forcing"
   ]
  },
  {
   "cell_type": "code",
   "execution_count": 13,
   "id": "91091429",
   "metadata": {},
   "outputs": [],
   "source": [
    "dataset = tf.data.Dataset.from_tensor_slices((\n",
    "                        {\"inputs\" : source_data,\n",
    "                         \"dec_inputs\" : target_data[:, :-1]},\n",
    "                        {\"outputs\": target_data[:, 1:]},))\n",
    "    # START_TOKEN in target data removed for teacher forcing"
   ]
  },
  {
   "cell_type": "markdown",
   "id": "a4473850",
   "metadata": {},
   "source": [
    "### 6. Get ready to use data for transformer model"
   ]
  },
  {
   "cell_type": "code",
   "execution_count": 14,
   "id": "15763b34",
   "metadata": {},
   "outputs": [],
   "source": [
    "# get ready to use for transformer model\n",
    "dataset = dataset.cache()\n",
    "dataset = dataset.shuffle(BUFFER_SIZE)\n",
    "dataset = dataset.batch(BATCH_SIZE)\n",
    "dataset = dataset.prefetch(tf.data.experimental.AUTOTUNE)"
   ]
  },
  {
   "cell_type": "markdown",
   "id": "17fa5425",
   "metadata": {},
   "source": [
    "---\n",
    "## 🤖 Design transformer model"
   ]
  },
  {
   "cell_type": "markdown",
   "id": "ea5d86b3",
   "metadata": {},
   "source": [
    "### 1. Additional pre-process for transformer input"
   ]
  },
  {
   "cell_type": "markdown",
   "id": "41d43c18",
   "metadata": {},
   "source": [
    "1-1. Implement scaled-dot product attention method"
   ]
  },
  {
   "cell_type": "code",
   "execution_count": 15,
   "id": "6fbd846b",
   "metadata": {},
   "outputs": [],
   "source": [
    "def scaled_dot_product_attention(query, key, value, mask):\n",
    "    # 어텐션 가중치는 Q와 K의 닷 프로덕트\n",
    "    matmul_qk = tf.matmul(query, key, transpose_b=True)\n",
    "    \n",
    "    # 가중치를 정규화\n",
    "    depth = tf.cast(tf.shape(key)[-1], tf.float32)\n",
    "    logits = matmul_qk / tf.math.sqrt(depth)\n",
    "    \n",
    "    # 패딩에 마스크 추가\n",
    "    if mask is not None:\n",
    "        logits += (mask * -1e9)\n",
    "        \n",
    "    # softmax적용\n",
    "    attention_weights = tf.nn.softmax(logits, axis=-1)\n",
    "    \n",
    "    # 최종 어텐션은 가중치와 V의 닷 프로덕트\n",
    "    output = tf.matmul(attention_weights, value)\n",
    "    return output"
   ]
  },
  {
   "cell_type": "markdown",
   "id": "a4277c7d",
   "metadata": {},
   "source": [
    "1-2. Implement masking methods"
   ]
  },
  {
   "cell_type": "code",
   "execution_count": 16,
   "id": "0b138a40",
   "metadata": {},
   "outputs": [],
   "source": [
    "# masking method which create padding style masks\n",
    "def create_padding_mask(x):\n",
    "    mask = tf.cast(tf.math.equal(x, 0), tf.float32)\n",
    "    # (batch_size, 1, 1, sequence length)\n",
    "    return mask[:, tf.newaxis, tf.newaxis, :]\n",
    "\n",
    "\n",
    "# masking method which create look-ahead style masks\n",
    "def create_look_ahead_mask(x):\n",
    "    seq_len = tf.shape(x)[1]\n",
    "    look_ahead_mask = 1 - tf.linalg.band_part(tf.ones((seq_len, seq_len)), -1, 0)\n",
    "    padding_mask = create_padding_mask(x)\n",
    "    return tf.maximum(look_ahead_mask, padding_mask)"
   ]
  },
  {
   "cell_type": "code",
   "execution_count": 17,
   "id": "9b2c977d",
   "metadata": {},
   "outputs": [
    {
     "name": "stdout",
     "output_type": "stream",
     "text": [
      "tf.Tensor(\n",
      "[[[[0. 0. 1. 0. 1.]]]\n",
      "\n",
      "\n",
      " [[[1. 1. 1. 0. 0.]]]], shape=(2, 1, 1, 5), dtype=float32)\n",
      "--------------------------------------------------------------------------------\n",
      "tf.Tensor(\n",
      "[[[[0. 1. 1. 1. 1.]\n",
      "   [0. 0. 1. 1. 1.]\n",
      "   [0. 0. 0. 1. 1.]\n",
      "   [0. 0. 0. 0. 1.]\n",
      "   [0. 0. 0. 0. 0.]]]], shape=(1, 1, 5, 5), dtype=float32)\n",
      "tf.Tensor(\n",
      "[[[[1. 1. 1. 1. 1.]\n",
      "   [1. 0. 1. 1. 1.]\n",
      "   [1. 0. 0. 1. 1.]\n",
      "   [1. 0. 0. 0. 1.]\n",
      "   [1. 0. 0. 0. 0.]]]], shape=(1, 1, 5, 5), dtype=float32)\n"
     ]
    }
   ],
   "source": [
    "# test operation of padding masking method\n",
    "print(create_padding_mask(tf.constant([[1, 2, 0, 3, 0], [0, 0, 0, 4, 5]])))\n",
    "\n",
    "print_single_divider()\n",
    "\n",
    "# test operation of look-ahead masking method\n",
    "print(create_look_ahead_mask(tf.constant([[1, 2, 3, 4, 5]])))\n",
    "print(create_look_ahead_mask(tf.constant([[0, 5, 1, 5, 5]])))"
   ]
  },
  {
   "cell_type": "markdown",
   "id": "f8b3ff4b",
   "metadata": {},
   "source": [
    "1-3. Implement positional encoding layer class"
   ]
  },
  {
   "cell_type": "code",
   "execution_count": 18,
   "id": "64dbbe7d",
   "metadata": {},
   "outputs": [],
   "source": [
    "class PositionalEncoding(tf.keras.layers.Layer):\n",
    "    def __init__(self, position, d_model):\n",
    "        super(PositionalEncoding, self).__init__()\n",
    "        self.pos_encoding = self.positional_encoding(position, d_model)\n",
    "        \n",
    "    def get_angles(self, position, i, d_model):\n",
    "        angles = 1 / tf.pow(10000, (2 * (i // 2)) / tf.cast(d_model, tf.float32))\n",
    "        return position * angles\n",
    "    \n",
    "    def positional_encoding(self, position, d_model):\n",
    "        # 각도 배열 생성\n",
    "        angle_rads = self.get_angles(\n",
    "                        position = tf.range(position, dtype = tf.float32)[:, tf.newaxis],\n",
    "                        i = tf.range(d_model, dtype = tf.float32)[tf.newaxis, :],\n",
    "                        d_model = d_model)\n",
    "        \n",
    "        # 배열의 짝수 인덱스에는 sin 함수 적용\n",
    "        sines = tf.math.sin(angle_rads[:, 0::2])\n",
    "        # 배열의 홀수 인덱스에는 cosine 함수 적용\n",
    "        cosines = tf.math.cos(angle_rads[:, 1::2])\n",
    "        \n",
    "        # sin과 cosine이 교차되도록 재배열\n",
    "        pos_encoding = tf.stack([sines, cosines], axis = 0)\n",
    "        pos_encoding = tf.transpose(pos_encoding,[1, 2, 0])\n",
    "        pos_encoding = tf.reshape(pos_encoding, [position, d_model])\n",
    "        \n",
    "        pos_encoding = pos_encoding[tf.newaxis, ...]\n",
    "        return tf.cast(pos_encoding, tf.float32)\n",
    "    \n",
    "    def call(self, inputs):\n",
    "        return inputs + self.pos_encoding[:, :tf.shape(inputs)[1], :]"
   ]
  },
  {
   "cell_type": "code",
   "execution_count": 19,
   "id": "68754305",
   "metadata": {},
   "outputs": [
    {
     "data": {
      "image/png": "[encoded data removed]",
      "text/plain": [
       "<Figure size 432x288 with 2 Axes>"
      ]
     },
     "metadata": {
      "needs_background": "light"
     },
     "output_type": "display_data"
    }
   ],
   "source": [
    "# test operation of positional encoding layer\n",
    "sample_pos_encoding = PositionalEncoding(50, 512)\n",
    "\n",
    "plt.pcolormesh(sample_pos_encoding.pos_encoding.numpy()[0], cmap = \"RdPu\")\n",
    "plt.xlabel(\"Depth\")\n",
    "plt.xlim((0, 512))\n",
    "plt.ylabel(\"Position\")\n",
    "plt.colorbar()\n",
    "plt.show()"
   ]
  },
  {
   "cell_type": "markdown",
   "id": "70e44a54",
   "metadata": {},
   "source": [
    "1-4. Implement multi-head attetion layer class"
   ]
  },
  {
   "cell_type": "code",
   "execution_count": 20,
   "id": "7a10bbda",
   "metadata": {},
   "outputs": [],
   "source": [
    "class MultiHeadAttention(tf.keras.layers.Layer):\n",
    "    \n",
    "    def __init__(self, d_model, num_heads, name = \"multi_head_attention\"):\n",
    "        super(MultiHeadAttention, self).__init__(name=name)\n",
    "        self.num_heads = num_heads\n",
    "        self.d_model = d_model\n",
    "        \n",
    "        assert d_model % self.num_heads == 0\n",
    "        \n",
    "        self.depth = d_model // self.num_heads\n",
    "        \n",
    "        self.query_dense = tf.keras.layers.Dense(units=d_model)\n",
    "        self.key_dense = tf.keras.layers.Dense(units=d_model)\n",
    "        self.value_dense = tf.keras.layers.Dense(units=d_model)\n",
    "        \n",
    "        self.dense = tf.keras.layers.Dense(units=d_model)\n",
    "    \n",
    "    \n",
    "    def split_heads(self, inputs, batch_size):\n",
    "        inputs = tf.reshape(\n",
    "            inputs, shape=(batch_size, -1, self.num_heads, self.depth))\n",
    "        return tf.transpose(inputs, perm = [0, 2, 1, 3])\n",
    "    \n",
    "    \n",
    "    def call(self, inputs):\n",
    "        query = inputs[\"query\"]\n",
    "        key = inputs[\"key\"]\n",
    "        value = inputs[\"value\"]\n",
    "        mask = inputs[\"mask\"]\n",
    "        batch_size = tf.shape(query)[0]\n",
    "        \n",
    "        # Q, K, V에 각각 Dense를 적용합니다\n",
    "        query = self.query_dense(query)\n",
    "        key = self.key_dense(key)\n",
    "        value = self.value_dense(value)\n",
    "        \n",
    "        # 병렬 연산을 위한 머리를 여러 개 만듭니다\n",
    "        query = self.split_heads(query, batch_size)\n",
    "        key = self.split_heads(key, batch_size)\n",
    "        value = self.split_heads(value, batch_size)\n",
    "        \n",
    "        # 스케일드 닷 프로덕트 어텐션 함수\n",
    "        scaled_attention = scaled_dot_product_attention(query, key, value, mask)\n",
    "        scaled_attention = tf.transpose(scaled_attention, perm=[0, 2, 1, 3])\n",
    "        \n",
    "        # 어텐션 연산 후에 각 결과를 다시 연결(concatenate)합니다\n",
    "        concat_attention = tf.reshape(scaled_attention,\n",
    "                                      (batch_size, -1, self.d_model))\n",
    "        \n",
    "        # 최종 결과에도 Dense를 한 번 더 적용합니다\n",
    "        outputs = self.dense(concat_attention)\n",
    "        \n",
    "        return outputs"
   ]
  },
  {
   "cell_type": "markdown",
   "id": "b3a9dbd1",
   "metadata": {},
   "source": [
    "### 2. Design ENCODER structure"
   ]
  },
  {
   "cell_type": "markdown",
   "id": "1ef3c793",
   "metadata": {},
   "source": [
    "2-1. Implement encoding layer class"
   ]
  },
  {
   "cell_type": "code",
   "execution_count": 21,
   "id": "e60955af",
   "metadata": {},
   "outputs": [],
   "source": [
    "# 인코더 하나의 레이어를 함수로 구현.\n",
    "# 이 하나의 레이어 안에는 두 개의 서브 레이어가 존재합니다.\n",
    "def encoder_layer(units, d_model, num_heads, dropout, name = \"encoder_layer\"):\n",
    "    inputs = tf.keras.Input(shape = (None, d_model), name = \"inputs\")\n",
    "    \n",
    "    # 패딩 마스크 사용\n",
    "    padding_mask = tf.keras.Input(shape = (1, 1, None), name = \"padding_mask\")\n",
    "    \n",
    "    # 첫 번째 서브 레이어 : 멀티 헤드 어텐션 수행 (셀프 어텐션)\n",
    "    attention = MultiHeadAttention(\n",
    "                    d_model, num_heads, name = \"attention\")({\n",
    "                        \"query\": inputs,\n",
    "                        \"key\": inputs,\n",
    "                        \"value\": inputs,\n",
    "                        \"mask\": padding_mask})\n",
    "    \n",
    "    # 어텐션의 결과는 Dropout과 Layer Normalization이라는 훈련을 돕는 테크닉을 수행\n",
    "    attention = tf.keras.layers.Dropout(rate = dropout)(attention)\n",
    "    attention = tf.keras.layers.LayerNormalization(epsilon = 1e-6)(inputs + attention)\n",
    "    \n",
    "    # 두 번째 서브 레이어 : 2개의 완전연결층\n",
    "    outputs = tf.keras.layers.Dense(units = units, activation='relu')(attention)\n",
    "    outputs = tf.keras.layers.Dense(units = d_model)(outputs)\n",
    "    \n",
    "    # 완전연결층의 결과는 Dropout과 LayerNormalization이라는 훈련을 돕는 테크닉을 수행\n",
    "    outputs = tf.keras.layers.Dropout(rate = dropout)(outputs)\n",
    "    outputs = tf.keras.layers.LayerNormalization(epsilon = 1e-6)(attention + outputs)\n",
    "    \n",
    "    return tf.keras.Model(inputs = [inputs, padding_mask], outputs = outputs, name = name)"
   ]
  },
  {
   "cell_type": "markdown",
   "id": "446c0c1c",
   "metadata": {},
   "source": [
    "2-2. Build encoder with layers"
   ]
  },
  {
   "cell_type": "code",
   "execution_count": 22,
   "id": "49417a4a",
   "metadata": {},
   "outputs": [],
   "source": [
    "def encoder(vocab_size, num_layers, units, d_model, num_heads, dropout, name = \"encoder\"):\n",
    "    inputs = tf.keras.Input(shape=(None,), name = \"inputs\")\n",
    "    \n",
    "    # 패딩 마스크 사용\n",
    "    padding_mask = tf.keras.Input(shape=(1, 1, None), name = \"padding_mask\")\n",
    "    \n",
    "    # 임베딩 레이어\n",
    "    embeddings = tf.keras.layers.Embedding(vocab_size, d_model)(inputs)\n",
    "    embeddings *= tf.math.sqrt(tf.cast(d_model, tf.float32))\n",
    "    \n",
    "    # 포지셔널 인코딩\n",
    "    embeddings = PositionalEncoding(vocab_size, d_model)(embeddings)\n",
    "    \n",
    "    outputs = tf.keras.layers.Dropout(rate=dropout)(embeddings)\n",
    "    \n",
    "    # num_layers만큼 쌓아올린 인코더의 층.\n",
    "    for i in range(num_layers):\n",
    "        outputs = encoder_layer(units = units,\n",
    "                                d_model = d_model,\n",
    "                                num_heads = num_heads,\n",
    "                                dropout = dropout,\n",
    "                                name = \"encoder_layer_{}\".format(i),\n",
    "                               )([outputs, padding_mask])\n",
    "        \n",
    "    return tf.keras.Model(inputs = [inputs, padding_mask], outputs = outputs, name = name)"
   ]
  },
  {
   "cell_type": "markdown",
   "id": "f265aa01",
   "metadata": {},
   "source": [
    "### 3. Design DECODER structure"
   ]
  },
  {
   "cell_type": "markdown",
   "id": "a9029e2e",
   "metadata": {},
   "source": [
    "3-1. Implement decoder layer class"
   ]
  },
  {
   "cell_type": "code",
   "execution_count": 23,
   "id": "82f89a1b",
   "metadata": {},
   "outputs": [],
   "source": [
    "# 디코더 하나의 레이어를 함수로 구현.\n",
    "# 이 하나의 레이어 안에는 세 개의 서브 레이어가 존재합니다.\n",
    "def decoder_layer(units, d_model, num_heads, dropout, name = \"decoder_layer\"):\n",
    "    inputs = tf.keras.Input(shape = (None, d_model), name = \"inputs\")\n",
    "    enc_outputs = tf.keras.Input(shape = (None, d_model), name = \"encoder_outputs\")\n",
    "    look_ahead_mask = tf.keras.Input(shape = (1, None, None), name = \"look_ahead_mask\")\n",
    "    padding_mask = tf.keras.Input(shape = (1, 1, None), name = 'padding_mask')\n",
    "    \n",
    "    # 첫 번째 서브 레이어 : 멀티 헤드 어텐션 수행 (셀프 어텐션)\n",
    "    attention1 = MultiHeadAttention(\n",
    "                    d_model, num_heads, name = \"attention_1\")(inputs = {\n",
    "                        \"query\": inputs,\n",
    "                        \"key\": inputs,\n",
    "                        \"value\": inputs,\n",
    "                        \"mask\": look_ahead_mask})\n",
    "    \n",
    "    # 멀티 헤드 어텐션의 결과는 LayerNormalization이라는 훈련을 돕는 테크닉을 수행\n",
    "    attention1 = tf.keras.layers.LayerNormalization(epsilon=1e-6)(attention1 + inputs)\n",
    "    \n",
    "    # 두 번째 서브 레이어 : 마스크드 멀티 헤드 어텐션 수행 (인코더-디코더 어텐션)\n",
    "    attention2 = MultiHeadAttention(\n",
    "                    d_model, num_heads, name = \"attention_2\")(inputs = {\n",
    "                        \"query\": attention1,\n",
    "                        \"key\": enc_outputs,\n",
    "                        \"value\": enc_outputs,\n",
    "                        \"mask\": padding_mask})\n",
    "    \n",
    "    # 마스크드 멀티 헤드 어텐션의 결과는\n",
    "    # Dropout과 LayerNormalization이라는 훈련을 돕는 테크닉을 수행\n",
    "    attention2 = tf.keras.layers.Dropout(rate = dropout)(attention2)\n",
    "    attention2 = tf.keras.layers.LayerNormalization(epsilon=1e-6)(attention2 + attention1)\n",
    "    \n",
    "    # 세 번째 서브 레이어 : 2개의 완전연결층\n",
    "    outputs = tf.keras.layers.Dense(units = units, activation = \"relu\")(attention2)\n",
    "    outputs = tf.keras.layers.Dense(units = d_model)(outputs)\n",
    "    \n",
    "    # 완전연결층의 결과는 Dropout과 LayerNormalization 수행\n",
    "    outputs = tf.keras.layers.Dropout(rate = dropout)(outputs)\n",
    "    outputs = tf.keras.layers.LayerNormalization(epsilon = 1e-6)(outputs + attention2)\n",
    "    \n",
    "    return tf.keras.Model(inputs = [inputs, enc_outputs, look_ahead_mask, padding_mask],\n",
    "                          outputs = outputs,\n",
    "                          name = name)"
   ]
  },
  {
   "cell_type": "markdown",
   "id": "44240b90",
   "metadata": {},
   "source": [
    "3-2. Build decoder with layers"
   ]
  },
  {
   "cell_type": "code",
   "execution_count": 24,
   "id": "f65a2158",
   "metadata": {},
   "outputs": [],
   "source": [
    "def decoder(vocab_size, num_layers, units, d_model, num_heads, dropout, name = \"decoder\"):\n",
    "    inputs = tf.keras.Input(shape = (None,), name = \"inputs\")\n",
    "    enc_outputs = tf.keras.Input(shape = (None, d_model), name = \"encoder_outputs\")\n",
    "    look_ahead_mask = tf.keras.Input(shape = (1, None, None), name = \"look_ahead_mask\")\n",
    "    \n",
    "    # 패딩 마스크\n",
    "    padding_mask = tf.keras.Input(shape = (1, 1, None), name = \"padding_mask\")\n",
    "    \n",
    "    # 임베딩 레이어\n",
    "    embeddings = tf.keras.layers.Embedding(vocab_size, d_model)(inputs)\n",
    "    embeddings *= tf.math.sqrt(tf.cast(d_model, tf.float32))\n",
    "    \n",
    "    # 포지셔널 인코딩\n",
    "    embeddings = PositionalEncoding(vocab_size, d_model)(embeddings)\n",
    "    \n",
    "    # Dropout이라는 훈련을 돕는 테크닉을 수행\n",
    "    outputs = tf.keras.layers.Dropout(rate=dropout)(embeddings)\n",
    "    \n",
    "    for i in range(num_layers):\n",
    "        outputs = decoder_layer(units = units,\n",
    "                                d_model = d_model,\n",
    "                                num_heads = num_heads,\n",
    "                                dropout = dropout,\n",
    "                                name = \"decoder_layer_{}\".format(i),\n",
    "                               )(inputs = [outputs, enc_outputs, look_ahead_mask, padding_mask])\n",
    "        \n",
    "    return tf.keras.Model(inputs = [inputs, enc_outputs, look_ahead_mask, padding_mask],\n",
    "                          outputs = outputs,\n",
    "                          name = name)"
   ]
  },
  {
   "cell_type": "markdown",
   "id": "75374ea5",
   "metadata": {},
   "source": [
    "## 4. Build transformer by combining each function block"
   ]
  },
  {
   "cell_type": "code",
   "execution_count": 25,
   "id": "1727dcfc",
   "metadata": {},
   "outputs": [],
   "source": [
    "def transformer(vocab_size, num_layers, units, d_model, num_heads, dropout, name = \"transformer\"):\n",
    "    inputs = tf.keras.Input(shape=(None,), name = \"inputs\")\n",
    "    dec_inputs = tf.keras.Input(shape=(None,), name = \"dec_inputs\")\n",
    "    \n",
    "    # 인코더에서 패딩을 위한 마스크\n",
    "    enc_padding_mask = tf.keras.layers.Lambda(\n",
    "                            create_padding_mask,\n",
    "                            output_shape = (1, 1, None),\n",
    "                            name = \"enc_padding_mask\")(inputs)\n",
    "    \n",
    "    # 디코더에서 미래의 토큰을 마스크 하기 위해서 사용합니다.\n",
    "    # 내부적으로 패딩 마스크도 포함되어져 있습니다.\n",
    "    look_ahead_mask = tf.keras.layers.Lambda(\n",
    "                            create_look_ahead_mask,\n",
    "                            output_shape = (1, None, None),\n",
    "                            name = \"look_ahead_mask\")(dec_inputs)\n",
    "    \n",
    "    # 두 번째 어텐션 블록에서 인코더의 벡터들을 마스킹\n",
    "    # 디코더에서 패딩을 위한 마스크\n",
    "    dec_padding_mask = tf.keras.layers.Lambda(\n",
    "                            create_padding_mask,\n",
    "                            output_shape = (1, 1, None),\n",
    "                            name = \"dec_padding_mask\")(inputs)\n",
    "    \n",
    "    # 인코더\n",
    "    enc_outputs = encoder(vocab_size = vocab_size,\n",
    "                          num_layers = num_layers,\n",
    "                          units = units,\n",
    "                          d_model = d_model,\n",
    "                          num_heads = num_heads,\n",
    "                          dropout = dropout,\n",
    "                         )(inputs = [inputs, enc_padding_mask])\n",
    "    \n",
    "    # 디코더\n",
    "    dec_outputs = decoder(vocab_size = vocab_size,\n",
    "                          num_layers = num_layers,\n",
    "                          units = units,\n",
    "                          d_model = d_model,\n",
    "                          num_heads = num_heads,\n",
    "                          dropout = dropout,\n",
    "                         )(inputs = [dec_inputs, enc_outputs, look_ahead_mask, dec_padding_mask])\n",
    "    \n",
    "    # 완전연결층\n",
    "    outputs = tf.keras.layers.Dense(units = vocab_size, name = \"outputs\")(dec_outputs)\n",
    "    \n",
    "    return tf.keras.Model(inputs = [inputs, dec_inputs], outputs = outputs, name = name)"
   ]
  },
  {
   "cell_type": "markdown",
   "id": "1f97c530",
   "metadata": {},
   "source": [
    "# 일단 여기까지는 OK"
   ]
  },
  {
   "cell_type": "markdown",
   "id": "68560476",
   "metadata": {},
   "source": [
    "## 5. Define additional functions to test transformer performance"
   ]
  },
  {
   "cell_type": "markdown",
   "id": "0510aa7e",
   "metadata": {},
   "source": [
    "5-1. Define loss function"
   ]
  },
  {
   "cell_type": "code",
   "execution_count": 26,
   "id": "adab557d",
   "metadata": {},
   "outputs": [],
   "source": [
    "def loss_function(y_true, y_pred):\n",
    "    y_true = tf.reshape(y_true, shape = (-1, MAX_SENTENCE_LEN - 1))\n",
    "    \n",
    "    loss = tf.keras.losses.SparseCategoricalCrossentropy(\n",
    "                from_logits = True, reduction = \"none\")(y_true, y_pred)\n",
    "    \n",
    "    mask = tf.cast(tf.not_equal(y_true, 0), tf.float32)\n",
    "    loss = tf.multiply(loss, mask)\n",
    "    \n",
    "    return tf.reduce_mean(loss)"
   ]
  },
  {
   "cell_type": "markdown",
   "id": "0172d85e",
   "metadata": {},
   "source": [
    "5-2. Define accuracy function"
   ]
  },
  {
   "cell_type": "code",
   "execution_count": 27,
   "id": "4e64d0ac",
   "metadata": {},
   "outputs": [],
   "source": [
    "def accuracy(y_true, y_pred):\n",
    "    y_true = tf.reshape(y_true, shape = (-1, MAX_SENTENCE_LEN - 1))\n",
    "    return tf.keras.metrics.sparse_categorical_accuracy(y_true, y_pred)"
   ]
  },
  {
   "cell_type": "markdown",
   "id": "6ccf15bf",
   "metadata": {},
   "source": [
    "5-3. Implement custom learning rate class"
   ]
  },
  {
   "cell_type": "code",
   "execution_count": 28,
   "id": "6b850743",
   "metadata": {},
   "outputs": [],
   "source": [
    "class CustomSchedule(tf.keras.optimizers.schedules.LearningRateSchedule):\n",
    "    \n",
    "    def __init__(self, d_model, warmup_steps = 4000):\n",
    "        super(CustomSchedule, self).__init__()\n",
    "        \n",
    "        self.d_model = d_model\n",
    "        self.d_model = tf.cast(self.d_model, tf.float32)\n",
    "        \n",
    "        self.warmup_steps = warmup_steps\n",
    "    \n",
    "    \n",
    "    def __call__(self, step):\n",
    "        arg1 = tf.math.rsqrt(step)\n",
    "        arg2 = step * (self.warmup_steps**-1.5)\n",
    "        \n",
    "        return tf.math.rsqrt(self.d_model) * tf.math.minimum(arg1, arg2)"
   ]
  },
  {
   "cell_type": "code",
   "execution_count": 29,
   "id": "468f494e",
   "metadata": {},
   "outputs": [
    {
     "data": {
      "image/png": "[encoded data removed]",
      "text/plain": [
       "<Figure size 432x288 with 1 Axes>"
      ]
     },
     "metadata": {
      "needs_background": "light"
     },
     "output_type": "display_data"
    }
   ],
   "source": [
    "# test operation of custom learning rate\n",
    "sample_learning_rate = CustomSchedule(d_model = 128)\n",
    "\n",
    "fig = plt.figure()\n",
    "plt.plot(sample_learning_rate(tf.range(200000, dtype = tf.float32)), color = \"pink\")\n",
    "plt.ylabel(\"Learning Rate\")\n",
    "plt.xlabel(\"Train Step\")\n",
    "plt.show()"
   ]
  },
  {
   "cell_type": "markdown",
   "id": "d0123db0",
   "metadata": {},
   "source": [
    "5-4. Define method to get predicted answer for input question using trained model"
   ]
  },
  {
   "cell_type": "code",
   "execution_count": 30,
   "id": "823b44ce",
   "metadata": {},
   "outputs": [],
   "source": [
    "def decoder_inference(sentence):\n",
    "    # pre-process of input sentence\n",
    "    sentence = divide_punctuations(sentence)\n",
    "    \n",
    "    # integer-encode sentence & add START/END tokens\n",
    "    sentence = tf.expand_dims(\n",
    "        [START_TOKEN] + vocab_encoder.encode(sentence) + [END_TOKEN], axis = 0)\n",
    "    \n",
    "    # save past output sequence predicted by decoder\n",
    "    # initial value is START_TOKEN\n",
    "    output_sequence = tf.expand_dims([START_TOKEN], 0)\n",
    "    \n",
    "    # predict proper answer(reaction of chatbot)\n",
    "    for i in range(MAX_SENTENCE_LEN):\n",
    "        # keep predicting words (until the length becomes MAX_SENTNECE_LEN in maximum case)\n",
    "        predictions = model(inputs = [sentence, output_sequence], training = False)\n",
    "        predictions = predictions[:, -1:, :]\n",
    "        \n",
    "        # integer index of currently predicted word\n",
    "        predicted_id = tf.cast(tf.argmax(predictions, axis = -1), tf.int32)\n",
    "        \n",
    "        # stop prediction when END token is predicted\n",
    "        if tf.equal(predicted_id, END_TOKEN):\n",
    "            break\n",
    "            \n",
    "        # add predicted words to output sequence\n",
    "        # output sequence might be the next input of decoder\n",
    "        output_sequence = tf.concat([output_sequence, predicted_id], axis = -1)\n",
    "        \n",
    "    return tf.squeeze(output_sequence, axis = 0)"
   ]
  },
  {
   "cell_type": "markdown",
   "id": "63308a81",
   "metadata": {},
   "source": [
    "5-5. Define method to decode integer-incoded sentence"
   ]
  },
  {
   "cell_type": "code",
   "execution_count": 31,
   "id": "f4a8eb3b",
   "metadata": {},
   "outputs": [],
   "source": [
    "def sentence_generation(sentence):\n",
    "    # get encoded prediction of answer(reaction of chatbot)\n",
    "    encoded_pred = decoder_inference(sentence)\n",
    "    \n",
    "    # decode encoded prediction (integer -> string)\n",
    "    decoded_pred = vocab_encoder.decode(\n",
    "                            [i for i in encoded_pred if i < VOCAB_SIZE - 2])    # exclude START/END tokens\n",
    "    \n",
    "    # print predicted result\n",
    "    print(\"Your said   :\", sentence)\n",
    "    print(\"Bot replies :\", decoded_pred)\n",
    "    \n",
    "    return decoded_pred"
   ]
  },
  {
   "cell_type": "markdown",
   "id": "45dd9657",
   "metadata": {},
   "source": [
    "---\n",
    "## 🤖 Experiment"
   ]
  },
  {
   "cell_type": "markdown",
   "id": "d39a28cd",
   "metadata": {},
   "source": [
    "### 1. Generate transformer model instance"
   ]
  },
  {
   "cell_type": "code",
   "execution_count": 32,
   "id": "d9e5699d",
   "metadata": {
    "scrolled": false
   },
   "outputs": [
    {
     "name": "stdout",
     "output_type": "stream",
     "text": [
      "Model: \"transformer\"\n",
      "__________________________________________________________________________________________________\n",
      "Layer (type)                    Output Shape         Param #     Connected to                     \n",
      "==================================================================================================\n",
      "inputs (InputLayer)             [(None, None)]       0                                            \n",
      "__________________________________________________________________________________________________\n",
      "dec_inputs (InputLayer)         [(None, None)]       0                                            \n",
      "__________________________________________________________________________________________________\n",
      "enc_padding_mask (Lambda)       (None, 1, 1, None)   0           inputs[0][0]                     \n",
      "__________________________________________________________________________________________________\n",
      "encoder (Functional)            (None, None, 256)    3131392     inputs[0][0]                     \n",
      "                                                                 enc_padding_mask[0][0]           \n",
      "__________________________________________________________________________________________________\n",
      "look_ahead_mask (Lambda)        (None, 1, None, None 0           dec_inputs[0][0]                 \n",
      "__________________________________________________________________________________________________\n",
      "dec_padding_mask (Lambda)       (None, 1, 1, None)   0           inputs[0][0]                     \n",
      "__________________________________________________________________________________________________\n",
      "decoder (Functional)            (None, None, 256)    3658752     dec_inputs[0][0]                 \n",
      "                                                                 encoder[0][0]                    \n",
      "                                                                 look_ahead_mask[0][0]            \n",
      "                                                                 dec_padding_mask[0][0]           \n",
      "__________________________________________________________________________________________________\n",
      "outputs (Dense)                 (None, None, 8114)   2085298     decoder[0][0]                    \n",
      "==================================================================================================\n",
      "Total params: 8,875,442\n",
      "Trainable params: 8,875,442\n",
      "Non-trainable params: 0\n",
      "__________________________________________________________________________________________________\n",
      "None\n"
     ]
    }
   ],
   "source": [
    "tf.keras.backend.clear_session()\n",
    "\n",
    "# generate instance of transformer model\n",
    "model = transformer(vocab_size = VOCAB_SIZE, \n",
    "                    num_layers = NUM_LAYERS,\n",
    "                    units = UNITS,\n",
    "                    d_model = D_MODEL,\n",
    "                    num_heads = NUM_HEADS,\n",
    "                    dropout = DROPOUT)\n",
    "\n",
    "# overview of model structure\n",
    "print(model.summary())"
   ]
  },
  {
   "cell_type": "markdown",
   "id": "eef0736d",
   "metadata": {},
   "source": [
    "### 2. Compile transformer model instance"
   ]
  },
  {
   "cell_type": "code",
   "execution_count": 33,
   "id": "e43b0045",
   "metadata": {},
   "outputs": [],
   "source": [
    "# get learning rate and optimizer\n",
    "learning_rate = CustomSchedule(D_MODEL)\n",
    "optimizer = tf.keras.optimizers.Adam(learning_rate, beta_1 = 0.9, beta_2 = 0.98, epsilon = 1e-9)\n",
    "\n",
    "# complie model\n",
    "model.compile(optimizer = optimizer, loss = loss_function, metrics = [accuracy])"
   ]
  },
  {
   "cell_type": "markdown",
   "id": "b14020b6",
   "metadata": {},
   "source": [
    "### 3. Train data"
   ]
  },
  {
   "cell_type": "code",
   "execution_count": 34,
   "id": "1b9c027a",
   "metadata": {
    "scrolled": false
   },
   "outputs": [
    {
     "name": "stdout",
     "output_type": "stream",
     "text": [
      "Epoch 1/200\n",
      "185/185 [==============================] - 16s 52ms/step - loss: 1.4556 - accuracy: 0.0246\n",
      "Epoch 2/200\n",
      "185/185 [==============================] - 10s 52ms/step - loss: 1.1800 - accuracy: 0.0493\n",
      "Epoch 3/200\n",
      "185/185 [==============================] - 10s 52ms/step - loss: 0.9980 - accuracy: 0.0505\n",
      "Epoch 4/200\n",
      "185/185 [==============================] - 10s 52ms/step - loss: 0.9233 - accuracy: 0.0541\n",
      "Epoch 5/200\n",
      "185/185 [==============================] - 10s 52ms/step - loss: 0.8666 - accuracy: 0.0573\n",
      "Epoch 6/200\n",
      "185/185 [==============================] - 10s 53ms/step - loss: 0.8081 - accuracy: 0.0611\n",
      "Epoch 7/200\n",
      "185/185 [==============================] - 10s 53ms/step - loss: 0.7435 - accuracy: 0.0670\n",
      "Epoch 8/200\n",
      "185/185 [==============================] - 10s 53ms/step - loss: 0.6724 - accuracy: 0.0744\n",
      "Epoch 9/200\n",
      "185/185 [==============================] - 10s 53ms/step - loss: 0.5936 - accuracy: 0.0836\n",
      "Epoch 10/200\n",
      "185/185 [==============================] - 10s 53ms/step - loss: 0.5116 - accuracy: 0.0928\n",
      "Epoch 11/200\n",
      "185/185 [==============================] - 10s 53ms/step - loss: 0.4287 - accuracy: 0.1027\n",
      "Epoch 12/200\n",
      "185/185 [==============================] - 10s 53ms/step - loss: 0.3475 - accuracy: 0.1138\n",
      "Epoch 13/200\n",
      "185/185 [==============================] - 10s 53ms/step - loss: 0.2734 - accuracy: 0.1248\n",
      "Epoch 14/200\n",
      "185/185 [==============================] - 10s 53ms/step - loss: 0.2073 - accuracy: 0.1348\n",
      "Epoch 15/200\n",
      "185/185 [==============================] - 10s 53ms/step - loss: 0.1542 - accuracy: 0.1441\n",
      "Epoch 16/200\n",
      "185/185 [==============================] - 10s 53ms/step - loss: 0.1117 - accuracy: 0.1516\n",
      "Epoch 17/200\n",
      "185/185 [==============================] - 10s 53ms/step - loss: 0.0807 - accuracy: 0.1574\n",
      "Epoch 18/200\n",
      "185/185 [==============================] - 10s 53ms/step - loss: 0.0624 - accuracy: 0.1606\n",
      "Epoch 19/200\n",
      "185/185 [==============================] - 10s 53ms/step - loss: 0.0520 - accuracy: 0.1625\n",
      "Epoch 20/200\n",
      "185/185 [==============================] - 10s 54ms/step - loss: 0.0460 - accuracy: 0.1632\n",
      "Epoch 21/200\n",
      "185/185 [==============================] - 10s 54ms/step - loss: 0.0426 - accuracy: 0.1640\n",
      "Epoch 22/200\n",
      "185/185 [==============================] - 10s 54ms/step - loss: 0.0410 - accuracy: 0.1641\n",
      "Epoch 23/200\n",
      "185/185 [==============================] - 10s 54ms/step - loss: 0.0374 - accuracy: 0.1649\n",
      "Epoch 24/200\n",
      "185/185 [==============================] - 10s 54ms/step - loss: 0.0315 - accuracy: 0.1662\n",
      "Epoch 25/200\n",
      "185/185 [==============================] - 10s 54ms/step - loss: 0.0285 - accuracy: 0.1671\n",
      "Epoch 26/200\n",
      "185/185 [==============================] - 10s 54ms/step - loss: 0.0251 - accuracy: 0.1678\n",
      "Epoch 27/200\n",
      "185/185 [==============================] - 10s 53ms/step - loss: 0.0230 - accuracy: 0.1684\n",
      "Epoch 28/200\n",
      "185/185 [==============================] - 10s 54ms/step - loss: 0.0207 - accuracy: 0.1690\n",
      "Epoch 29/200\n",
      "185/185 [==============================] - 10s 53ms/step - loss: 0.0181 - accuracy: 0.1696\n",
      "Epoch 30/200\n",
      "185/185 [==============================] - 10s 53ms/step - loss: 0.0170 - accuracy: 0.1701\n",
      "Epoch 31/200\n",
      "185/185 [==============================] - 10s 53ms/step - loss: 0.0159 - accuracy: 0.1702\n",
      "Epoch 32/200\n",
      "185/185 [==============================] - 10s 53ms/step - loss: 0.0149 - accuracy: 0.1705\n",
      "Epoch 33/200\n",
      "185/185 [==============================] - 10s 53ms/step - loss: 0.0137 - accuracy: 0.1707\n",
      "Epoch 34/200\n",
      "185/185 [==============================] - 10s 53ms/step - loss: 0.0128 - accuracy: 0.1709\n",
      "Epoch 35/200\n",
      "185/185 [==============================] - 10s 53ms/step - loss: 0.0117 - accuracy: 0.1713\n",
      "Epoch 36/200\n",
      "185/185 [==============================] - 10s 53ms/step - loss: 0.0109 - accuracy: 0.1715\n",
      "Epoch 37/200\n",
      "185/185 [==============================] - 10s 53ms/step - loss: 0.0109 - accuracy: 0.1716\n",
      "Epoch 38/200\n",
      "185/185 [==============================] - 10s 53ms/step - loss: 0.0102 - accuracy: 0.1717\n",
      "Epoch 39/200\n",
      "185/185 [==============================] - 10s 53ms/step - loss: 0.0095 - accuracy: 0.1719\n",
      "Epoch 40/200\n",
      "185/185 [==============================] - 10s 54ms/step - loss: 0.0087 - accuracy: 0.1720\n",
      "Epoch 41/200\n",
      "185/185 [==============================] - 10s 53ms/step - loss: 0.0086 - accuracy: 0.1720\n",
      "Epoch 42/200\n",
      "185/185 [==============================] - 10s 53ms/step - loss: 0.0082 - accuracy: 0.1722\n",
      "Epoch 43/200\n",
      "185/185 [==============================] - 10s 53ms/step - loss: 0.0077 - accuracy: 0.1723\n",
      "Epoch 44/200\n",
      "185/185 [==============================] - 10s 54ms/step - loss: 0.0076 - accuracy: 0.1724\n",
      "Epoch 45/200\n",
      "185/185 [==============================] - 10s 54ms/step - loss: 0.0073 - accuracy: 0.1723\n",
      "Epoch 46/200\n",
      "185/185 [==============================] - 10s 53ms/step - loss: 0.0069 - accuracy: 0.1726\n",
      "Epoch 47/200\n",
      "185/185 [==============================] - 10s 54ms/step - loss: 0.0068 - accuracy: 0.1725\n",
      "Epoch 48/200\n",
      "185/185 [==============================] - 10s 53ms/step - loss: 0.0064 - accuracy: 0.1727\n",
      "Epoch 49/200\n",
      "185/185 [==============================] - 10s 53ms/step - loss: 0.0061 - accuracy: 0.1726\n",
      "Epoch 50/200\n",
      "185/185 [==============================] - 10s 54ms/step - loss: 0.0058 - accuracy: 0.1727\n",
      "Epoch 51/200\n",
      "185/185 [==============================] - 10s 54ms/step - loss: 0.0059 - accuracy: 0.1728\n",
      "Epoch 52/200\n",
      "185/185 [==============================] - 10s 54ms/step - loss: 0.0056 - accuracy: 0.1728\n",
      "Epoch 53/200\n",
      "185/185 [==============================] - 10s 55ms/step - loss: 0.0053 - accuracy: 0.1728\n",
      "Epoch 54/200\n",
      "185/185 [==============================] - 10s 54ms/step - loss: 0.0051 - accuracy: 0.1729\n",
      "Epoch 55/200\n",
      "185/185 [==============================] - 10s 54ms/step - loss: 0.0052 - accuracy: 0.1728\n",
      "Epoch 56/200\n",
      "185/185 [==============================] - 10s 54ms/step - loss: 0.0049 - accuracy: 0.1729\n",
      "Epoch 57/200\n",
      "185/185 [==============================] - 10s 53ms/step - loss: 0.0048 - accuracy: 0.1729\n",
      "Epoch 58/200\n",
      "185/185 [==============================] - 10s 54ms/step - loss: 0.0048 - accuracy: 0.1729\n",
      "Epoch 59/200\n",
      "185/185 [==============================] - 10s 53ms/step - loss: 0.0044 - accuracy: 0.1730\n",
      "Epoch 60/200\n",
      "185/185 [==============================] - 10s 54ms/step - loss: 0.0044 - accuracy: 0.1730\n",
      "Epoch 61/200\n",
      "185/185 [==============================] - 10s 54ms/step - loss: 0.0044 - accuracy: 0.1730\n",
      "Epoch 62/200\n",
      "185/185 [==============================] - 10s 54ms/step - loss: 0.0043 - accuracy: 0.1730\n",
      "Epoch 63/200\n",
      "185/185 [==============================] - 10s 53ms/step - loss: 0.0042 - accuracy: 0.1730\n",
      "Epoch 64/200\n",
      "185/185 [==============================] - 10s 54ms/step - loss: 0.0042 - accuracy: 0.1731\n",
      "Epoch 65/200\n",
      "185/185 [==============================] - 10s 54ms/step - loss: 0.0038 - accuracy: 0.1732\n",
      "Epoch 66/200\n",
      "185/185 [==============================] - 10s 54ms/step - loss: 0.0038 - accuracy: 0.1731\n",
      "Epoch 67/200\n",
      "185/185 [==============================] - 10s 53ms/step - loss: 0.0038 - accuracy: 0.1731\n",
      "Epoch 68/200\n",
      "185/185 [==============================] - 10s 54ms/step - loss: 0.0037 - accuracy: 0.1731\n",
      "Epoch 69/200\n",
      "185/185 [==============================] - 10s 54ms/step - loss: 0.0035 - accuracy: 0.1731\n",
      "Epoch 70/200\n",
      "185/185 [==============================] - 10s 54ms/step - loss: 0.0036 - accuracy: 0.1731\n",
      "Epoch 71/200\n",
      "185/185 [==============================] - 10s 54ms/step - loss: 0.0033 - accuracy: 0.1732\n",
      "Epoch 72/200\n",
      "185/185 [==============================] - 10s 54ms/step - loss: 0.0033 - accuracy: 0.1732\n",
      "Epoch 73/200\n",
      "185/185 [==============================] - 10s 54ms/step - loss: 0.0032 - accuracy: 0.1732\n",
      "Epoch 74/200\n",
      "185/185 [==============================] - 10s 54ms/step - loss: 0.0033 - accuracy: 0.1732\n",
      "Epoch 75/200\n",
      "185/185 [==============================] - 10s 54ms/step - loss: 0.0031 - accuracy: 0.1733\n",
      "Epoch 76/200\n",
      "185/185 [==============================] - 10s 54ms/step - loss: 0.0030 - accuracy: 0.1732\n",
      "Epoch 77/200\n",
      "185/185 [==============================] - 10s 54ms/step - loss: 0.0030 - accuracy: 0.1733\n",
      "Epoch 78/200\n",
      "185/185 [==============================] - 10s 54ms/step - loss: 0.0029 - accuracy: 0.1733\n",
      "Epoch 79/200\n",
      "185/185 [==============================] - 10s 54ms/step - loss: 0.0028 - accuracy: 0.1733\n",
      "Epoch 80/200\n",
      "185/185 [==============================] - 10s 54ms/step - loss: 0.0029 - accuracy: 0.1733\n",
      "Epoch 81/200\n",
      "185/185 [==============================] - 10s 54ms/step - loss: 0.0027 - accuracy: 0.1733\n",
      "Epoch 82/200\n",
      "185/185 [==============================] - 10s 54ms/step - loss: 0.0026 - accuracy: 0.1733\n",
      "Epoch 83/200\n",
      "185/185 [==============================] - 10s 53ms/step - loss: 0.0028 - accuracy: 0.1733\n",
      "Epoch 84/200\n",
      "185/185 [==============================] - 10s 54ms/step - loss: 0.0026 - accuracy: 0.1733\n",
      "Epoch 85/200\n",
      "185/185 [==============================] - 10s 54ms/step - loss: 0.0026 - accuracy: 0.1733\n",
      "Epoch 86/200\n",
      "185/185 [==============================] - 10s 54ms/step - loss: 0.0026 - accuracy: 0.1733\n",
      "Epoch 87/200\n",
      "185/185 [==============================] - 10s 54ms/step - loss: 0.0026 - accuracy: 0.1733\n",
      "Epoch 88/200\n",
      "185/185 [==============================] - 10s 54ms/step - loss: 0.0025 - accuracy: 0.1733\n",
      "Epoch 89/200\n",
      "185/185 [==============================] - 10s 54ms/step - loss: 0.0025 - accuracy: 0.1733\n",
      "Epoch 90/200\n",
      "185/185 [==============================] - 10s 54ms/step - loss: 0.0024 - accuracy: 0.1733\n",
      "Epoch 91/200\n",
      "185/185 [==============================] - 10s 53ms/step - loss: 0.0023 - accuracy: 0.1734\n",
      "Epoch 92/200\n",
      "185/185 [==============================] - 10s 53ms/step - loss: 0.0024 - accuracy: 0.1733\n",
      "Epoch 93/200\n",
      "185/185 [==============================] - 10s 53ms/step - loss: 0.0022 - accuracy: 0.1733\n",
      "Epoch 94/200\n",
      "185/185 [==============================] - 10s 54ms/step - loss: 0.0021 - accuracy: 0.1734\n",
      "Epoch 95/200\n",
      "185/185 [==============================] - 10s 53ms/step - loss: 0.0023 - accuracy: 0.1733\n",
      "Epoch 96/200\n",
      "185/185 [==============================] - 10s 54ms/step - loss: 0.0021 - accuracy: 0.1734\n",
      "Epoch 97/200\n",
      "185/185 [==============================] - 10s 54ms/step - loss: 0.0020 - accuracy: 0.1734\n",
      "Epoch 98/200\n",
      "185/185 [==============================] - 10s 54ms/step - loss: 0.0021 - accuracy: 0.1734\n",
      "Epoch 99/200\n",
      "185/185 [==============================] - 10s 54ms/step - loss: 0.0022 - accuracy: 0.1734\n",
      "Epoch 100/200\n",
      "185/185 [==============================] - 10s 53ms/step - loss: 0.0020 - accuracy: 0.1733\n",
      "Epoch 101/200\n",
      "185/185 [==============================] - 10s 53ms/step - loss: 0.0019 - accuracy: 0.1734\n",
      "Epoch 102/200\n",
      "185/185 [==============================] - 10s 54ms/step - loss: 0.0019 - accuracy: 0.1734\n",
      "Epoch 103/200\n",
      "185/185 [==============================] - 10s 54ms/step - loss: 0.0021 - accuracy: 0.1733\n",
      "Epoch 104/200\n",
      "185/185 [==============================] - 10s 54ms/step - loss: 0.0021 - accuracy: 0.1734\n",
      "Epoch 105/200\n",
      "185/185 [==============================] - 10s 54ms/step - loss: 0.0020 - accuracy: 0.1734\n",
      "Epoch 106/200\n",
      "185/185 [==============================] - 10s 54ms/step - loss: 0.0018 - accuracy: 0.1734\n",
      "Epoch 107/200\n",
      "185/185 [==============================] - 10s 54ms/step - loss: 0.0018 - accuracy: 0.1734\n",
      "Epoch 108/200\n",
      "185/185 [==============================] - 10s 53ms/step - loss: 0.0019 - accuracy: 0.1734\n",
      "Epoch 109/200\n",
      "185/185 [==============================] - 10s 54ms/step - loss: 0.0019 - accuracy: 0.1734\n",
      "Epoch 110/200\n",
      "185/185 [==============================] - 10s 54ms/step - loss: 0.0018 - accuracy: 0.1734\n",
      "Epoch 111/200\n",
      "185/185 [==============================] - 10s 53ms/step - loss: 0.0020 - accuracy: 0.1733\n",
      "Epoch 112/200\n",
      "185/185 [==============================] - 10s 53ms/step - loss: 0.0015 - accuracy: 0.1734\n",
      "Epoch 113/200\n",
      "185/185 [==============================] - 10s 54ms/step - loss: 0.0019 - accuracy: 0.1734\n",
      "Epoch 114/200\n",
      "185/185 [==============================] - 10s 54ms/step - loss: 0.0021 - accuracy: 0.1733\n",
      "Epoch 115/200\n",
      "185/185 [==============================] - 10s 54ms/step - loss: 0.0017 - accuracy: 0.1734\n",
      "Epoch 116/200\n",
      "185/185 [==============================] - 10s 53ms/step - loss: 0.0016 - accuracy: 0.1734\n",
      "Epoch 117/200\n",
      "185/185 [==============================] - 10s 53ms/step - loss: 0.0017 - accuracy: 0.1734\n",
      "Epoch 118/200\n",
      "185/185 [==============================] - 10s 53ms/step - loss: 0.0017 - accuracy: 0.1734\n",
      "Epoch 119/200\n",
      "185/185 [==============================] - 10s 54ms/step - loss: 0.0016 - accuracy: 0.1734\n",
      "Epoch 120/200\n",
      "185/185 [==============================] - 10s 53ms/step - loss: 0.0017 - accuracy: 0.1734\n",
      "Epoch 121/200\n",
      "185/185 [==============================] - 10s 54ms/step - loss: 0.0016 - accuracy: 0.1734\n",
      "Epoch 122/200\n",
      "185/185 [==============================] - 10s 54ms/step - loss: 0.0017 - accuracy: 0.1734\n",
      "Epoch 123/200\n",
      "185/185 [==============================] - 10s 54ms/step - loss: 0.0015 - accuracy: 0.1734\n",
      "Epoch 124/200\n",
      "185/185 [==============================] - 10s 53ms/step - loss: 0.0016 - accuracy: 0.1734\n",
      "Epoch 125/200\n",
      "185/185 [==============================] - 10s 53ms/step - loss: 0.0016 - accuracy: 0.1734\n",
      "Epoch 126/200\n",
      "185/185 [==============================] - 10s 54ms/step - loss: 0.0015 - accuracy: 0.1734\n",
      "Epoch 127/200\n",
      "185/185 [==============================] - 10s 54ms/step - loss: 0.0015 - accuracy: 0.1735\n",
      "Epoch 128/200\n",
      "185/185 [==============================] - 10s 54ms/step - loss: 0.0017 - accuracy: 0.1734\n",
      "Epoch 129/200\n",
      "185/185 [==============================] - 10s 53ms/step - loss: 0.0015 - accuracy: 0.1734\n",
      "Epoch 130/200\n",
      "185/185 [==============================] - 10s 53ms/step - loss: 0.0015 - accuracy: 0.1735\n",
      "Epoch 131/200\n",
      "185/185 [==============================] - 10s 54ms/step - loss: 0.0015 - accuracy: 0.1734\n",
      "Epoch 132/200\n",
      "185/185 [==============================] - 10s 53ms/step - loss: 0.0015 - accuracy: 0.1734\n",
      "Epoch 133/200\n",
      "185/185 [==============================] - 10s 53ms/step - loss: 0.0014 - accuracy: 0.1735\n",
      "Epoch 134/200\n",
      "185/185 [==============================] - 10s 54ms/step - loss: 0.0014 - accuracy: 0.1735\n",
      "Epoch 135/200\n",
      "185/185 [==============================] - 10s 53ms/step - loss: 0.0015 - accuracy: 0.1734\n",
      "Epoch 136/200\n",
      "185/185 [==============================] - 10s 54ms/step - loss: 0.0014 - accuracy: 0.1734\n",
      "Epoch 137/200\n",
      "185/185 [==============================] - 10s 54ms/step - loss: 0.0014 - accuracy: 0.1735\n",
      "Epoch 138/200\n",
      "185/185 [==============================] - 10s 54ms/step - loss: 0.0015 - accuracy: 0.1735\n",
      "Epoch 139/200\n",
      "185/185 [==============================] - 10s 53ms/step - loss: 0.0014 - accuracy: 0.1734\n",
      "Epoch 140/200\n",
      "185/185 [==============================] - 10s 54ms/step - loss: 0.0013 - accuracy: 0.1735\n",
      "Epoch 141/200\n",
      "185/185 [==============================] - 10s 53ms/step - loss: 0.0013 - accuracy: 0.1735\n",
      "Epoch 142/200\n",
      "185/185 [==============================] - 10s 54ms/step - loss: 0.0014 - accuracy: 0.1735\n",
      "Epoch 143/200\n",
      "185/185 [==============================] - 10s 54ms/step - loss: 0.0012 - accuracy: 0.1735\n",
      "Epoch 144/200\n",
      "185/185 [==============================] - 10s 53ms/step - loss: 0.0014 - accuracy: 0.1735\n",
      "Epoch 145/200\n",
      "185/185 [==============================] - 10s 53ms/step - loss: 0.0013 - accuracy: 0.1735\n",
      "Epoch 146/200\n",
      "185/185 [==============================] - 10s 53ms/step - loss: 0.0013 - accuracy: 0.1735\n",
      "Epoch 147/200\n",
      "185/185 [==============================] - 10s 53ms/step - loss: 0.0013 - accuracy: 0.1735\n",
      "Epoch 148/200\n",
      "185/185 [==============================] - 10s 53ms/step - loss: 0.0013 - accuracy: 0.1735\n",
      "Epoch 149/200\n",
      "185/185 [==============================] - 10s 53ms/step - loss: 0.0013 - accuracy: 0.1735\n",
      "Epoch 150/200\n",
      "185/185 [==============================] - 10s 53ms/step - loss: 0.0012 - accuracy: 0.1735\n",
      "Epoch 151/200\n",
      "185/185 [==============================] - 10s 54ms/step - loss: 0.0013 - accuracy: 0.1734\n",
      "Epoch 152/200\n",
      "185/185 [==============================] - 10s 54ms/step - loss: 0.0012 - accuracy: 0.1735\n",
      "Epoch 153/200\n",
      "185/185 [==============================] - 10s 54ms/step - loss: 0.0012 - accuracy: 0.1735\n",
      "Epoch 154/200\n",
      "185/185 [==============================] - 10s 54ms/step - loss: 0.0013 - accuracy: 0.1735\n",
      "Epoch 155/200\n",
      "185/185 [==============================] - 10s 53ms/step - loss: 0.0011 - accuracy: 0.1735\n",
      "Epoch 156/200\n",
      "185/185 [==============================] - 10s 54ms/step - loss: 0.0013 - accuracy: 0.1735\n",
      "Epoch 157/200\n",
      "185/185 [==============================] - 10s 53ms/step - loss: 0.0013 - accuracy: 0.1735\n",
      "Epoch 158/200\n",
      "185/185 [==============================] - 10s 54ms/step - loss: 0.0015 - accuracy: 0.1734\n",
      "Epoch 159/200\n",
      "185/185 [==============================] - 10s 54ms/step - loss: 0.0012 - accuracy: 0.1735\n",
      "Epoch 160/200\n",
      "185/185 [==============================] - 10s 53ms/step - loss: 0.0012 - accuracy: 0.1735\n",
      "Epoch 161/200\n",
      "185/185 [==============================] - 10s 54ms/step - loss: 0.0013 - accuracy: 0.1735\n",
      "Epoch 162/200\n",
      "185/185 [==============================] - 10s 54ms/step - loss: 0.0013 - accuracy: 0.1735\n",
      "Epoch 163/200\n",
      "185/185 [==============================] - 10s 53ms/step - loss: 0.0012 - accuracy: 0.1735\n",
      "Epoch 164/200\n",
      "185/185 [==============================] - 10s 54ms/step - loss: 0.0011 - accuracy: 0.1735\n",
      "Epoch 165/200\n",
      "185/185 [==============================] - 10s 53ms/step - loss: 0.0012 - accuracy: 0.1735\n",
      "Epoch 166/200\n",
      "185/185 [==============================] - 10s 54ms/step - loss: 0.0011 - accuracy: 0.1735\n",
      "Epoch 167/200\n",
      "185/185 [==============================] - 10s 53ms/step - loss: 0.0012 - accuracy: 0.1735\n",
      "Epoch 168/200\n",
      "185/185 [==============================] - 10s 54ms/step - loss: 0.0013 - accuracy: 0.1734\n",
      "Epoch 169/200\n",
      "185/185 [==============================] - 10s 54ms/step - loss: 0.0012 - accuracy: 0.1735\n",
      "Epoch 170/200\n",
      "185/185 [==============================] - 10s 54ms/step - loss: 0.0011 - accuracy: 0.1735\n",
      "Epoch 171/200\n",
      "185/185 [==============================] - 10s 54ms/step - loss: 0.0013 - accuracy: 0.1734\n",
      "Epoch 172/200\n",
      "185/185 [==============================] - 10s 54ms/step - loss: 0.0013 - accuracy: 0.1734\n",
      "Epoch 173/200\n",
      "185/185 [==============================] - 10s 53ms/step - loss: 0.0012 - accuracy: 0.1735\n",
      "Epoch 174/200\n",
      "185/185 [==============================] - 10s 54ms/step - loss: 0.0012 - accuracy: 0.1735\n",
      "Epoch 175/200\n",
      "185/185 [==============================] - 10s 54ms/step - loss: 0.0012 - accuracy: 0.1735\n",
      "Epoch 176/200\n",
      "185/185 [==============================] - 10s 54ms/step - loss: 0.0011 - accuracy: 0.1735\n",
      "Epoch 177/200\n",
      "185/185 [==============================] - 10s 54ms/step - loss: 0.0012 - accuracy: 0.1735\n",
      "Epoch 178/200\n",
      "185/185 [==============================] - 10s 54ms/step - loss: 0.0012 - accuracy: 0.1735\n",
      "Epoch 179/200\n",
      "185/185 [==============================] - 10s 54ms/step - loss: 0.0012 - accuracy: 0.1735\n",
      "Epoch 180/200\n",
      "185/185 [==============================] - 10s 54ms/step - loss: 0.0010 - accuracy: 0.1735\n",
      "Epoch 181/200\n",
      "185/185 [==============================] - 10s 53ms/step - loss: 0.0010 - accuracy: 0.1735\n",
      "Epoch 182/200\n",
      "185/185 [==============================] - 10s 53ms/step - loss: 0.0010 - accuracy: 0.1735\n",
      "Epoch 183/200\n",
      "185/185 [==============================] - 10s 54ms/step - loss: 0.0011 - accuracy: 0.1735\n",
      "Epoch 184/200\n",
      "185/185 [==============================] - 10s 53ms/step - loss: 0.0011 - accuracy: 0.1734\n",
      "Epoch 185/200\n",
      "185/185 [==============================] - 10s 53ms/step - loss: 0.0010 - accuracy: 0.1735\n",
      "Epoch 186/200\n",
      "185/185 [==============================] - 10s 53ms/step - loss: 0.0010 - accuracy: 0.1735\n",
      "Epoch 187/200\n",
      "185/185 [==============================] - 10s 53ms/step - loss: 0.0012 - accuracy: 0.1735\n",
      "Epoch 188/200\n",
      "185/185 [==============================] - 10s 53ms/step - loss: 0.0011 - accuracy: 0.1735\n",
      "Epoch 189/200\n",
      "185/185 [==============================] - 10s 53ms/step - loss: 0.0011 - accuracy: 0.1735\n",
      "Epoch 190/200\n",
      "185/185 [==============================] - 10s 53ms/step - loss: 0.0011 - accuracy: 0.1735\n",
      "Epoch 191/200\n",
      "185/185 [==============================] - 10s 54ms/step - loss: 0.0011 - accuracy: 0.1735\n",
      "Epoch 192/200\n",
      "185/185 [==============================] - 10s 54ms/step - loss: 0.0011 - accuracy: 0.1735\n",
      "Epoch 193/200\n",
      "185/185 [==============================] - 10s 54ms/step - loss: 0.0011 - accuracy: 0.1735\n",
      "Epoch 194/200\n",
      "185/185 [==============================] - 10s 53ms/step - loss: 0.0011 - accuracy: 0.1735\n",
      "Epoch 195/200\n",
      "185/185 [==============================] - 10s 54ms/step - loss: 0.0011 - accuracy: 0.1735\n",
      "Epoch 196/200\n",
      "185/185 [==============================] - 10s 54ms/step - loss: 0.0010 - accuracy: 0.1735\n",
      "Epoch 197/200\n",
      "185/185 [==============================] - 10s 53ms/step - loss: 0.0011 - accuracy: 0.1735\n",
      "Epoch 198/200\n",
      "185/185 [==============================] - 10s 53ms/step - loss: 0.0010 - accuracy: 0.1735\n",
      "Epoch 199/200\n",
      "185/185 [==============================] - 10s 54ms/step - loss: 0.0010 - accuracy: 0.1735\n",
      "Epoch 200/200\n",
      "185/185 [==============================] - 10s 54ms/step - loss: 0.0012 - accuracy: 0.1735\n"
     ]
    }
   ],
   "source": [
    "history = model.fit(dataset, epochs = EPOCHS, verbose = 1)"
   ]
  },
  {
   "cell_type": "markdown",
   "id": "699bd556",
   "metadata": {},
   "source": [
    "### 4. Test trained model"
   ]
  },
  {
   "cell_type": "code",
   "execution_count": 35,
   "id": "c77d11ad",
   "metadata": {},
   "outputs": [
    {
     "name": "stdout",
     "output_type": "stream",
     "text": [
      ">>> Welcome to my chatbot world!\n",
      "\n",
      "Your said   : 지금 몇시야?\n",
      "Bot replies : 간단한 견과류나 과일을 먹어보세요 .\n",
      "--------------------------------------------------------------------------------\n",
      "Your said   : 오늘 점심 메뉴 추천해줘\n",
      "Bot replies : 누구랑 먹는 냐에 따라 다르겠죠 .\n",
      "--------------------------------------------------------------------------------\n",
      "Your said   : 요즘 날씨가 너무 춥다\n",
      "Bot replies : 이별에는 면역이 힘든가봐요 .\n",
      "--------------------------------------------------------------------------------\n",
      "Your said   : 주말에는 청소를 할거야\n",
      "Bot replies : 같이 안해보세요 .\n",
      "--------------------------------------------------------------------------------\n",
      "Your said   : 크리스마스 선물은 뭐가 좋을까?\n",
      "Bot replies : 항상 못해본 건 궁금하더라고요 .\n",
      "--------------------------------------------------------------------------------\n",
      "Your said   : 인터넷 쇼핑을 했는데 얼른 택배 왔으면 좋겠다\n",
      "Bot replies : 사이즈를 잘 보고 사세요 .\n",
      "--------------------------------------------------------------------------------\n",
      "Your said   : 내일은 어떤 공부를 하게 될까?\n",
      "Bot replies : 기우제를 지내봅시다 !\n",
      "--------------------------------------------------------------------------------\n",
      "Your said   : 너는 취미가 뭐야?\n",
      "Bot replies : 받는 것보다 주는 게 더 행복하고\n",
      "--------------------------------------------------------------------------------\n",
      "Your said   : 나는 고양이보다 강아지가 더 좋아\n",
      "Bot replies : 분위기 있네요 .\n",
      "--------------------------------------------------------------------------------\n",
      "Your said   : 사실은 말할 수 없는 비밀이 있어\n",
      "Bot replies : 그런 일은 하지 마세요 .\n",
      "--------------------------------------------------------------------------------\n",
      "Your said   : 우리 이제는 사랑하게 될거야\n",
      "Bot replies : 정말 특이한 사람 많죠 .\n"
     ]
    }
   ],
   "source": [
    "print(\">>> Welcome to my chatbot world!\\n\")\n",
    "\n",
    "question = \"지금 몇시야?\"\n",
    "answer = sentence_generation(question)\n",
    "\n",
    "print_single_divider()\n",
    "question = \"오늘 점심 메뉴 추천해줘\"\n",
    "answer = sentence_generation(question)\n",
    "\n",
    "print_single_divider()\n",
    "question = \"요즘 날씨가 너무 춥다\"\n",
    "answer = sentence_generation(question)\n",
    "\n",
    "print_single_divider()\n",
    "question = \"주말에는 청소를 할거야\"\n",
    "answer = sentence_generation(question)\n",
    "\n",
    "print_single_divider()\n",
    "question = \"크리스마스 선물은 뭐가 좋을까?\"\n",
    "answer = sentence_generation(question)\n",
    "\n",
    "print_single_divider()\n",
    "question = \"인터넷 쇼핑을 했는데 얼른 택배 왔으면 좋겠다\"\n",
    "answer = sentence_generation(question)\n",
    "\n",
    "print_single_divider()\n",
    "question = \"내일은 어떤 공부를 하게 될까?\"\n",
    "answer = sentence_generation(question)\n",
    "\n",
    "print_single_divider()\n",
    "question = \"너는 취미가 뭐야?\"\n",
    "answer = sentence_generation(question)\n",
    "\n",
    "print_single_divider()\n",
    "question = \"나는 고양이보다 강아지가 더 좋아\"\n",
    "answer = sentence_generation(question)\n",
    "\n",
    "print_single_divider()\n",
    "question = \"사실은 말할 수 없는 비밀이 있어\"\n",
    "answer = sentence_generation(question)\n",
    "\n",
    "print_single_divider()\n",
    "question = \"우리 이제는 사랑하게 될거야\"\n",
    "answer = sentence_generation(question)"
   ]
  },
  {
   "cell_type": "code",
   "execution_count": null,
   "id": "1c12e75a",
   "metadata": {},
   "outputs": [],
   "source": [
    "'''\n",
    "이제 exploration이 끝난ㄴ 거 같아서 기분이 좋고 주말에 얼른 밀린걸 매꿔야겠다\n",
    "'''"
   ]
  }
 ],
 "metadata": {
  "kernelspec": {
   "display_name": "Python 3 (ipykernel)",
   "language": "python",
   "name": "python3"
  },
  "language_info": {
   "codemirror_mode": {
    "name": "ipython",
    "version": 3
   },
   "file_extension": ".py",
   "mimetype": "text/x-python",
   "name": "python",
   "nbconvert_exporter": "python",
   "pygments_lexer": "ipython3",
   "version": "3.9.7"
  }
 },
 "nbformat": 4,
 "nbformat_minor": 5
}
